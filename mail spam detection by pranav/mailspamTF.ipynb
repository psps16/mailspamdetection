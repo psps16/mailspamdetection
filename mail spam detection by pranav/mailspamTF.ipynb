{
 "cells": [
  {
   "cell_type": "markdown",
   "id": "7da58400",
   "metadata": {},
   "source": [
    "# MAIL SPAM DETECTION USING TENSORFLOW"
   ]
  },
  {
   "cell_type": "code",
   "execution_count": null,
   "id": "96fe0ff4",
   "metadata": {},
   "outputs": [],
   "source": [
    "#reading the dataset\n",
    "import pandas as pd\n",
    "dataset=pd.read_csv('spammailsTF.csv')"
   ]
  },
  {
   "cell_type": "code",
   "execution_count": 3,
   "id": "9149acb0",
   "metadata": {},
   "outputs": [],
   "source": [
    "import tensorflow as tf"
   ]
  },
  {
   "cell_type": "code",
   "execution_count": 4,
   "id": "c4991156",
   "metadata": {},
   "outputs": [
    {
     "data": {
      "text/html": [
       "<div>\n",
       "<style scoped>\n",
       "    .dataframe tbody tr th:only-of-type {\n",
       "        vertical-align: middle;\n",
       "    }\n",
       "\n",
       "    .dataframe tbody tr th {\n",
       "        vertical-align: top;\n",
       "    }\n",
       "\n",
       "    .dataframe thead th {\n",
       "        text-align: right;\n",
       "    }\n",
       "</style>\n",
       "<table border=\"1\" class=\"dataframe\">\n",
       "  <thead>\n",
       "    <tr style=\"text-align: right;\">\n",
       "      <th></th>\n",
       "      <th>Unnamed: 0</th>\n",
       "      <th>label</th>\n",
       "      <th>text</th>\n",
       "      <th>label_num</th>\n",
       "    </tr>\n",
       "  </thead>\n",
       "  <tbody>\n",
       "    <tr>\n",
       "      <th>0</th>\n",
       "      <td>605</td>\n",
       "      <td>ham</td>\n",
       "      <td>Subject: enron methanol ; meter # : 988291\\r\\n...</td>\n",
       "      <td>0</td>\n",
       "    </tr>\n",
       "    <tr>\n",
       "      <th>1</th>\n",
       "      <td>2349</td>\n",
       "      <td>ham</td>\n",
       "      <td>Subject: hpl nom for january 9 , 2001\\r\\n( see...</td>\n",
       "      <td>0</td>\n",
       "    </tr>\n",
       "    <tr>\n",
       "      <th>2</th>\n",
       "      <td>3624</td>\n",
       "      <td>ham</td>\n",
       "      <td>Subject: neon retreat\\r\\nho ho ho , we ' re ar...</td>\n",
       "      <td>0</td>\n",
       "    </tr>\n",
       "    <tr>\n",
       "      <th>3</th>\n",
       "      <td>4685</td>\n",
       "      <td>spam</td>\n",
       "      <td>Subject: photoshop , windows , office . cheap ...</td>\n",
       "      <td>1</td>\n",
       "    </tr>\n",
       "    <tr>\n",
       "      <th>4</th>\n",
       "      <td>2030</td>\n",
       "      <td>ham</td>\n",
       "      <td>Subject: re : indian springs\\r\\nthis deal is t...</td>\n",
       "      <td>0</td>\n",
       "    </tr>\n",
       "    <tr>\n",
       "      <th>...</th>\n",
       "      <td>...</td>\n",
       "      <td>...</td>\n",
       "      <td>...</td>\n",
       "      <td>...</td>\n",
       "    </tr>\n",
       "    <tr>\n",
       "      <th>5166</th>\n",
       "      <td>1518</td>\n",
       "      <td>ham</td>\n",
       "      <td>Subject: put the 10 on the ft\\r\\nthe transport...</td>\n",
       "      <td>0</td>\n",
       "    </tr>\n",
       "    <tr>\n",
       "      <th>5167</th>\n",
       "      <td>404</td>\n",
       "      <td>ham</td>\n",
       "      <td>Subject: 3 / 4 / 2000 and following noms\\r\\nhp...</td>\n",
       "      <td>0</td>\n",
       "    </tr>\n",
       "    <tr>\n",
       "      <th>5168</th>\n",
       "      <td>2933</td>\n",
       "      <td>ham</td>\n",
       "      <td>Subject: calpine daily gas nomination\\r\\n&gt;\\r\\n...</td>\n",
       "      <td>0</td>\n",
       "    </tr>\n",
       "    <tr>\n",
       "      <th>5169</th>\n",
       "      <td>1409</td>\n",
       "      <td>ham</td>\n",
       "      <td>Subject: industrial worksheets for august 2000...</td>\n",
       "      <td>0</td>\n",
       "    </tr>\n",
       "    <tr>\n",
       "      <th>5170</th>\n",
       "      <td>4807</td>\n",
       "      <td>spam</td>\n",
       "      <td>Subject: important online banking alert\\r\\ndea...</td>\n",
       "      <td>1</td>\n",
       "    </tr>\n",
       "  </tbody>\n",
       "</table>\n",
       "<p>5171 rows × 4 columns</p>\n",
       "</div>"
      ],
      "text/plain": [
       "      Unnamed: 0 label                                               text  \\\n",
       "0            605   ham  Subject: enron methanol ; meter # : 988291\\r\\n...   \n",
       "1           2349   ham  Subject: hpl nom for january 9 , 2001\\r\\n( see...   \n",
       "2           3624   ham  Subject: neon retreat\\r\\nho ho ho , we ' re ar...   \n",
       "3           4685  spam  Subject: photoshop , windows , office . cheap ...   \n",
       "4           2030   ham  Subject: re : indian springs\\r\\nthis deal is t...   \n",
       "...          ...   ...                                                ...   \n",
       "5166        1518   ham  Subject: put the 10 on the ft\\r\\nthe transport...   \n",
       "5167         404   ham  Subject: 3 / 4 / 2000 and following noms\\r\\nhp...   \n",
       "5168        2933   ham  Subject: calpine daily gas nomination\\r\\n>\\r\\n...   \n",
       "5169        1409   ham  Subject: industrial worksheets for august 2000...   \n",
       "5170        4807  spam  Subject: important online banking alert\\r\\ndea...   \n",
       "\n",
       "      label_num  \n",
       "0             0  \n",
       "1             0  \n",
       "2             0  \n",
       "3             1  \n",
       "4             0  \n",
       "...         ...  \n",
       "5166          0  \n",
       "5167          0  \n",
       "5168          0  \n",
       "5169          0  \n",
       "5170          1  \n",
       "\n",
       "[5171 rows x 4 columns]"
      ]
     },
     "execution_count": 4,
     "metadata": {},
     "output_type": "execute_result"
    }
   ],
   "source": [
    "#printing the first and last 5 rows of the dataset\n",
    "dataset"
   ]
  },
  {
   "cell_type": "code",
   "execution_count": 5,
   "id": "b37da5ab",
   "metadata": {},
   "outputs": [
    {
     "name": "stdout",
     "output_type": "stream",
     "text": [
      "<class 'pandas.core.frame.DataFrame'>\n",
      "RangeIndex: 5171 entries, 0 to 5170\n",
      "Data columns (total 4 columns):\n",
      " #   Column      Non-Null Count  Dtype \n",
      "---  ------      --------------  ----- \n",
      " 0   Unnamed: 0  5171 non-null   int64 \n",
      " 1   label       5171 non-null   object\n",
      " 2   text        5171 non-null   object\n",
      " 3   label_num   5171 non-null   int64 \n",
      "dtypes: int64(2), object(2)\n",
      "memory usage: 161.7+ KB\n"
     ]
    },
    {
     "data": {
      "text/plain": [
       "Index(['Unnamed: 0', 'label', 'text', 'label_num'], dtype='object')"
      ]
     },
     "execution_count": 5,
     "metadata": {},
     "output_type": "execute_result"
    }
   ],
   "source": [
    "dataset.info()\n",
    "dataset.columns"
   ]
  },
  {
   "cell_type": "code",
   "execution_count": 6,
   "id": "5647c15c",
   "metadata": {},
   "outputs": [],
   "source": [
    "df=dataset"
   ]
  },
  {
   "cell_type": "code",
   "execution_count": 7,
   "id": "2104b8da",
   "metadata": {},
   "outputs": [],
   "source": [
    "df = df.drop(columns=['Unnamed: 0']) #drops the 'Unnamed:0' column"
   ]
  },
  {
   "cell_type": "code",
   "execution_count": 8,
   "id": "6c191c41",
   "metadata": {},
   "outputs": [],
   "source": [
    "df['text'].fillna('Missing', inplace=True)\n",
    "df['label'].fillna('Missing', inplace=True)\n",
    "df['label_num'].fillna(-1, inplace=True)  # Filling with -1 to indicate missing value\n"
   ]
  },
  {
   "cell_type": "code",
   "execution_count": 9,
   "id": "32571a17",
   "metadata": {},
   "outputs": [
    {
     "data": {
      "text/html": [
       "<div>\n",
       "<style scoped>\n",
       "    .dataframe tbody tr th:only-of-type {\n",
       "        vertical-align: middle;\n",
       "    }\n",
       "\n",
       "    .dataframe tbody tr th {\n",
       "        vertical-align: top;\n",
       "    }\n",
       "\n",
       "    .dataframe thead th {\n",
       "        text-align: right;\n",
       "    }\n",
       "</style>\n",
       "<table border=\"1\" class=\"dataframe\">\n",
       "  <thead>\n",
       "    <tr style=\"text-align: right;\">\n",
       "      <th></th>\n",
       "      <th>label</th>\n",
       "      <th>text</th>\n",
       "      <th>label_num</th>\n",
       "    </tr>\n",
       "  </thead>\n",
       "  <tbody>\n",
       "    <tr>\n",
       "      <th>0</th>\n",
       "      <td>ham</td>\n",
       "      <td>Subject: enron methanol ; meter # : 988291\\r\\n...</td>\n",
       "      <td>0</td>\n",
       "    </tr>\n",
       "    <tr>\n",
       "      <th>1</th>\n",
       "      <td>ham</td>\n",
       "      <td>Subject: hpl nom for january 9 , 2001\\r\\n( see...</td>\n",
       "      <td>0</td>\n",
       "    </tr>\n",
       "    <tr>\n",
       "      <th>2</th>\n",
       "      <td>ham</td>\n",
       "      <td>Subject: neon retreat\\r\\nho ho ho , we ' re ar...</td>\n",
       "      <td>0</td>\n",
       "    </tr>\n",
       "    <tr>\n",
       "      <th>3</th>\n",
       "      <td>spam</td>\n",
       "      <td>Subject: photoshop , windows , office . cheap ...</td>\n",
       "      <td>1</td>\n",
       "    </tr>\n",
       "    <tr>\n",
       "      <th>4</th>\n",
       "      <td>ham</td>\n",
       "      <td>Subject: re : indian springs\\r\\nthis deal is t...</td>\n",
       "      <td>0</td>\n",
       "    </tr>\n",
       "    <tr>\n",
       "      <th>...</th>\n",
       "      <td>...</td>\n",
       "      <td>...</td>\n",
       "      <td>...</td>\n",
       "    </tr>\n",
       "    <tr>\n",
       "      <th>5166</th>\n",
       "      <td>ham</td>\n",
       "      <td>Subject: put the 10 on the ft\\r\\nthe transport...</td>\n",
       "      <td>0</td>\n",
       "    </tr>\n",
       "    <tr>\n",
       "      <th>5167</th>\n",
       "      <td>ham</td>\n",
       "      <td>Subject: 3 / 4 / 2000 and following noms\\r\\nhp...</td>\n",
       "      <td>0</td>\n",
       "    </tr>\n",
       "    <tr>\n",
       "      <th>5168</th>\n",
       "      <td>ham</td>\n",
       "      <td>Subject: calpine daily gas nomination\\r\\n&gt;\\r\\n...</td>\n",
       "      <td>0</td>\n",
       "    </tr>\n",
       "    <tr>\n",
       "      <th>5169</th>\n",
       "      <td>ham</td>\n",
       "      <td>Subject: industrial worksheets for august 2000...</td>\n",
       "      <td>0</td>\n",
       "    </tr>\n",
       "    <tr>\n",
       "      <th>5170</th>\n",
       "      <td>spam</td>\n",
       "      <td>Subject: important online banking alert\\r\\ndea...</td>\n",
       "      <td>1</td>\n",
       "    </tr>\n",
       "  </tbody>\n",
       "</table>\n",
       "<p>5171 rows × 3 columns</p>\n",
       "</div>"
      ],
      "text/plain": [
       "     label                                               text  label_num\n",
       "0      ham  Subject: enron methanol ; meter # : 988291\\r\\n...          0\n",
       "1      ham  Subject: hpl nom for january 9 , 2001\\r\\n( see...          0\n",
       "2      ham  Subject: neon retreat\\r\\nho ho ho , we ' re ar...          0\n",
       "3     spam  Subject: photoshop , windows , office . cheap ...          1\n",
       "4      ham  Subject: re : indian springs\\r\\nthis deal is t...          0\n",
       "...    ...                                                ...        ...\n",
       "5166   ham  Subject: put the 10 on the ft\\r\\nthe transport...          0\n",
       "5167   ham  Subject: 3 / 4 / 2000 and following noms\\r\\nhp...          0\n",
       "5168   ham  Subject: calpine daily gas nomination\\r\\n>\\r\\n...          0\n",
       "5169   ham  Subject: industrial worksheets for august 2000...          0\n",
       "5170  spam  Subject: important online banking alert\\r\\ndea...          1\n",
       "\n",
       "[5171 rows x 3 columns]"
      ]
     },
     "execution_count": 9,
     "metadata": {},
     "output_type": "execute_result"
    }
   ],
   "source": [
    "df"
   ]
  },
  {
   "cell_type": "markdown",
   "id": "a41a2678",
   "metadata": {},
   "source": [
    "Preprocess the data - tokenize and pad sequences "
   ]
  },
  {
   "cell_type": "code",
   "execution_count": 10,
   "id": "9c5e2110",
   "metadata": {},
   "outputs": [],
   "source": [
    "from tensorflow.keras.preprocessing.text import Tokenizer\n",
    "from tensorflow.keras.preprocessing.sequence import pad_sequences"
   ]
  },
  {
   "cell_type": "code",
   "execution_count": 11,
   "id": "3e549cd8",
   "metadata": {},
   "outputs": [],
   "source": [
    "tokenizer = Tokenizer()\n",
    "tokenizer.fit_on_texts(df['text'])\n",
    "sequences = tokenizer.texts_to_sequences(df['text'])\n",
    "padded_sequences = pad_sequences(sequences, padding='post')"
   ]
  },
  {
   "cell_type": "code",
   "execution_count": 12,
   "id": "03d2b223",
   "metadata": {},
   "outputs": [],
   "source": [
    "from sklearn.model_selection import train_test_split\n",
    "#Split data into training and testing sets \n",
    "x_train, x_test, y_train, y_test = train_test_split(padded_sequences, df['label_num'], test_size=0.2)"
   ]
  },
  {
   "cell_type": "code",
   "execution_count": 13,
   "id": "cda82269",
   "metadata": {},
   "outputs": [
    {
     "name": "stdout",
     "output_type": "stream",
     "text": [
      "(4136, 5916) (1035, 5916)\n"
     ]
    }
   ],
   "source": [
    "print(x_train.shape,x_test.shape)"
   ]
  },
  {
   "cell_type": "code",
   "execution_count": 14,
   "id": "dae545fe",
   "metadata": {},
   "outputs": [
    {
     "name": "stdout",
     "output_type": "stream",
     "text": [
      "WARNING:tensorflow:From C:\\Users\\PranavPraneethBhat\\anaconda3\\Lib\\site-packages\\keras\\src\\backend.py:873: The name tf.get_default_graph is deprecated. Please use tf.compat.v1.get_default_graph instead.\n",
      "\n"
     ]
    }
   ],
   "source": [
    "#model fitting\n",
    "model = tf.keras.Sequential([\n",
    "    tf.keras.layers.Embedding(input_dim=len(tokenizer.word_index)+1, output_dim=16),\n",
    "    tf.keras.layers.GlobalAveragePooling1D(),\n",
    "    tf.keras.layers.Dense(24, activation='relu'),\n",
    "    tf.keras.layers.Dense(1, activation='sigmoid')\n",
    "])"
   ]
  },
  {
   "cell_type": "code",
   "execution_count": 15,
   "id": "b30dfcdd",
   "metadata": {},
   "outputs": [
    {
     "name": "stdout",
     "output_type": "stream",
     "text": [
      "WARNING:tensorflow:From C:\\Users\\PranavPraneethBhat\\anaconda3\\Lib\\site-packages\\keras\\src\\optimizers\\__init__.py:309: The name tf.train.Optimizer is deprecated. Please use tf.compat.v1.train.Optimizer instead.\n",
      "\n"
     ]
    }
   ],
   "source": [
    "model.compile(loss='binary_crossentropy', optimizer='adam', metrics=['accuracy'])"
   ]
  },
  {
   "cell_type": "code",
   "execution_count": 16,
   "id": "85e82522",
   "metadata": {},
   "outputs": [
    {
     "name": "stdout",
     "output_type": "stream",
     "text": [
      "Epoch 1/20\n",
      "WARNING:tensorflow:From C:\\Users\\PranavPraneethBhat\\anaconda3\\Lib\\site-packages\\keras\\src\\utils\\tf_utils.py:492: The name tf.ragged.RaggedTensorValue is deprecated. Please use tf.compat.v1.ragged.RaggedTensorValue instead.\n",
      "\n",
      "WARNING:tensorflow:From C:\\Users\\PranavPraneethBhat\\anaconda3\\Lib\\site-packages\\keras\\src\\engine\\base_layer_utils.py:384: The name tf.executing_eagerly_outside_functions is deprecated. Please use tf.compat.v1.executing_eagerly_outside_functions instead.\n",
      "\n",
      "130/130 [==============================] - 4s 23ms/step - loss: 0.6288 - accuracy: 0.7123\n",
      "Epoch 2/20\n",
      "130/130 [==============================] - 3s 22ms/step - loss: 0.5976 - accuracy: 0.7123\n",
      "Epoch 3/20\n",
      "130/130 [==============================] - 3s 22ms/step - loss: 0.5953 - accuracy: 0.7123\n",
      "Epoch 4/20\n",
      "130/130 [==============================] - 3s 22ms/step - loss: 0.5927 - accuracy: 0.7123\n",
      "Epoch 5/20\n",
      "130/130 [==============================] - 3s 22ms/step - loss: 0.5891 - accuracy: 0.7123\n",
      "Epoch 6/20\n",
      "130/130 [==============================] - 3s 22ms/step - loss: 0.5818 - accuracy: 0.7123\n",
      "Epoch 7/20\n",
      "130/130 [==============================] - 3s 22ms/step - loss: 0.5663 - accuracy: 0.7159\n",
      "Epoch 8/20\n",
      "130/130 [==============================] - 3s 22ms/step - loss: 0.5367 - accuracy: 0.7241\n",
      "Epoch 9/20\n",
      "130/130 [==============================] - 3s 22ms/step - loss: 0.4966 - accuracy: 0.7425\n",
      "Epoch 10/20\n",
      "130/130 [==============================] - 3s 24ms/step - loss: 0.4514 - accuracy: 0.7614\n",
      "Epoch 11/20\n",
      "130/130 [==============================] - 3s 23ms/step - loss: 0.4042 - accuracy: 0.7894\n",
      "Epoch 12/20\n",
      "130/130 [==============================] - 3s 22ms/step - loss: 0.3603 - accuracy: 0.8257\n",
      "Epoch 13/20\n",
      "130/130 [==============================] - 3s 22ms/step - loss: 0.3161 - accuracy: 0.8639\n",
      "Epoch 14/20\n",
      "130/130 [==============================] - 3s 22ms/step - loss: 0.2821 - accuracy: 0.9033\n",
      "Epoch 15/20\n",
      "130/130 [==============================] - 3s 22ms/step - loss: 0.2489 - accuracy: 0.9284\n",
      "Epoch 16/20\n",
      "130/130 [==============================] - 3s 23ms/step - loss: 0.2250 - accuracy: 0.9359\n",
      "Epoch 17/20\n",
      "130/130 [==============================] - 3s 22ms/step - loss: 0.2037 - accuracy: 0.9480\n",
      "Epoch 18/20\n",
      "130/130 [==============================] - 3s 22ms/step - loss: 0.1807 - accuracy: 0.9625\n",
      "Epoch 19/20\n",
      "130/130 [==============================] - 3s 22ms/step - loss: 0.1645 - accuracy: 0.9674\n",
      "Epoch 20/20\n",
      "130/130 [==============================] - 3s 23ms/step - loss: 0.1535 - accuracy: 0.9710\n"
     ]
    },
    {
     "data": {
      "text/plain": [
       "<keras.src.callbacks.History at 0x1b6697b7590>"
      ]
     },
     "execution_count": 16,
     "metadata": {},
     "output_type": "execute_result"
    }
   ],
   "source": [
    "model.fit(x_train, y_train, epochs=20)"
   ]
  },
  {
   "cell_type": "code",
   "execution_count": 17,
   "id": "6f6011d8",
   "metadata": {},
   "outputs": [
    {
     "name": "stdout",
     "output_type": "stream",
     "text": [
      "33/33 [==============================] - 0s 5ms/step - loss: 0.1826 - accuracy: 0.9681\n",
      "Loss: 0.18257546424865723, Accuracy: 0.9681159257888794\n"
     ]
    }
   ],
   "source": [
    "#Evaluate the model on test data \n",
    "loss, accuracy = model.evaluate(x_test, y_test)\n",
    "print(f\"Loss: {loss}, Accuracy: {accuracy}\")"
   ]
  },
  {
   "cell_type": "code",
   "execution_count": 18,
   "id": "13d8db7d",
   "metadata": {
    "scrolled": true
   },
   "outputs": [
    {
     "name": "stdout",
     "output_type": "stream",
     "text": [
      "33/33 [==============================] - 0s 5ms/step\n"
     ]
    }
   ],
   "source": [
    "from sklearn.metrics import confusion_matrix,classification_report\n",
    "y_true = y_test # the true labels from the test set\n",
    "y_pred = model.predict(x_test) # the predicted probabilities from the model\n",
    "threshold = 0.5 # the threshold value to classify as spam or ham\n",
    "y_pred = (y_pred > threshold).astype(int) # the binary labels from the probabilities\n",
    "\n"
   ]
  },
  {
   "cell_type": "code",
   "execution_count": 19,
   "id": "a055dc1d",
   "metadata": {},
   "outputs": [
    {
     "name": "stdout",
     "output_type": "stream",
     "text": [
      "confusion matrix: \n",
      " [[696  30]\n",
      " [  3 306]]\n"
     ]
    }
   ],
   "source": [
    "cm = confusion_matrix(y_true, y_pred) # the confusion matrix\n",
    "print('confusion matrix: \\n',cm)"
   ]
  },
  {
   "cell_type": "markdown",
   "id": "73d75a59",
   "metadata": {},
   "source": [
    "* True Positives (696): Spam emails correctly identified as spam.\n",
    "* True Negatives (306): Ham emails correctly identified as ham.\n",
    "* False Positives (30): Ham emails incorrectly classified as spam.\n",
    "* False Negatives (3): Spam emails incorrectly classified as ham."
   ]
  },
  {
   "cell_type": "code",
   "execution_count": 20,
   "id": "e1ada1b0",
   "metadata": {
    "scrolled": true
   },
   "outputs": [
    {
     "name": "stdout",
     "output_type": "stream",
     "text": [
      "classification report: \n",
      "              precision    recall  f1-score   support\n",
      "\n",
      "           0       1.00      0.96      0.98       726\n",
      "           1       0.91      0.99      0.95       309\n",
      "\n",
      "    accuracy                           0.97      1035\n",
      "   macro avg       0.95      0.97      0.96      1035\n",
      "weighted avg       0.97      0.97      0.97      1035\n",
      "\n"
     ]
    }
   ],
   "source": [
    "cr = classification_report(y_true, y_pred) # the classification report\n",
    "print(f'classification report: \\n{cr}')"
   ]
  },
  {
   "cell_type": "markdown",
   "id": "b250785b",
   "metadata": {},
   "source": [
    "here, 0:ham and 1:spam"
   ]
  },
  {
   "cell_type": "markdown",
   "id": "5adc9da6",
   "metadata": {},
   "source": [
    "* The overall accuracy of the model is 97%, indicating that it correctly classifies emails as spam or ham 97% of the time.\n",
    "* The precision and recall for both spam and ham emails are high, suggesting that the model is effective in identifying both types of emails accurately.\n",
    "*  The precision for ham emails is 1.00, meaning that all emails predicted as ham were actually ham. Precision for spam mails is  0.91 means that out of every 10 emails the model predicts as spam, 9 are actually spam, and 1 is mistakenly labeled ham (false positive).\n",
    "* F1 Score: 0.95 - This signifies a good balance between precision and recall for identifying spam emails. The model excels at    catching most spam without labeling too many ham emails incorrectly."
   ]
  },
  {
   "cell_type": "code",
   "execution_count": 21,
   "id": "f255c553",
   "metadata": {},
   "outputs": [],
   "source": [
    "ip=''' \n",
    "The Dropbox logo\n",
    "Please sign in!\n",
    "Hi Pp,\n",
    "\n",
    "We noticed you're not taking advantage of your Dropbox account. We're presenting new ways to utilize your Dropbox.\n",
    "Continue here\n",
    "Here are some ways to use Dropbox:\n",
    "Back up your files—like photos and important docs—to keep them stored safely.\n",
    "Download Dropbox on your devices to access files from wherever you are.\n",
    "Send larger files and folders to clients and friends with\n",
    "Dropbox Transfer—even if they don’t use Dropbox.\n",
    "Out of storage space? No problem. We’ll give you an additional 250 MB* for free once you complete a few steps.\n",
    "\n",
    "* This page can only be viewed from a computer, not a mobile phone.'''"
   ]
  },
  {
   "cell_type": "code",
   "execution_count": 22,
   "id": "dbde8c2e",
   "metadata": {},
   "outputs": [
    {
     "name": "stdout",
     "output_type": "stream",
     "text": [
      "1/1 [==============================] - 0s 25ms/step\n",
      "Probability of spam: 0.7673009634017944\n",
      "The email is spam.\n"
     ]
    }
   ],
   "source": [
    "#Preprocess the input email text\n",
    "input_text = ip\n",
    "input_sequence = tokenizer.texts_to_sequences([input_text])\n",
    "input_padded = pad_sequences(input_sequence, maxlen=5916, padding='post')\n",
    "\n",
    "#Predict the probability of spam\n",
    "probability = model.predict(input_padded)[0][0]\n",
    "print(f\"Probability of spam: {probability}\")\n",
    "\n",
    "#Classify the email as spam or ham\n",
    "threshold = 0.5\n",
    "if probability > threshold:\n",
    "    print(\"The email is spam.\")\n",
    "else:\n",
    "    print(\"The email is ham.\")\n"
   ]
  },
  {
   "cell_type": "code",
   "execution_count": null,
   "id": "f01038d9",
   "metadata": {},
   "outputs": [],
   "source": []
  }
 ],
 "metadata": {
  "kernelspec": {
   "display_name": "Python 3 (ipykernel)",
   "language": "python",
   "name": "python3"
  },
  "language_info": {
   "codemirror_mode": {
    "name": "ipython",
    "version": 3
   },
   "file_extension": ".py",
   "mimetype": "text/x-python",
   "name": "python",
   "nbconvert_exporter": "python",
   "pygments_lexer": "ipython3",
   "version": "3.11.4"
  }
 },
 "nbformat": 4,
 "nbformat_minor": 5
}
